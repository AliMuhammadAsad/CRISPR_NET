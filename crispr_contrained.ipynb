{
 "cells": [
  {
   "cell_type": "markdown",
   "metadata": {},
   "source": [
    "# CRISPR Constrained model For CAS 13b"
   ]
  },
  {
   "cell_type": "code",
   "execution_count": 2,
   "metadata": {},
   "outputs": [
    {
     "name": "stdout",
     "output_type": "stream",
     "text": [
      "    SP01 SP02 SP03 SP04 SP05 SP06 SP07 SP08 SP09 SP10  ... SP22 SP23 SP24  \\\n",
      "120    G    C    U    C    G    G    A    G    G    A  ...    C    C    A   \n",
      "10     G    G    U    C    U    U    C    U    U    C  ...    G    C    C   \n",
      "73     C    U    G    C    G    U    C    U    C    C  ...    C    C    U   \n",
      "159    U    G    A    U    U    G    G    G    G    U  ...    A    G    A   \n",
      "156    G    G    U    U    G    A    U    U    G    G  ...    A    G    U   \n",
      "\n",
      "    SP25 SP26 SP27 SP28 SP29 SP30 mean_targeting_efficiency  \n",
      "120    U    C    G    U    C    U                       0.7  \n",
      "10     G    U    C    G    G    A                       1.0  \n",
      "73     C    G    C    C    A    U                       0.9  \n",
      "159    U    C    U    U    A    A                       0.9  \n",
      "156    A    G    A    U    C    U                       0.9  \n",
      "\n",
      "[5 rows x 31 columns]\n",
      "    SP01 SP02 SP03 SP04 SP05 SP06 SP07 SP08 SP09 SP10  ... SP22 SP23 SP24  \\\n",
      "24     G    G    U    G    A    U    G    U    C    C  ...    G    A    C   \n",
      "6      G    G    G    G    A    A    G    G    A    C  ...    G    U    C   \n",
      "153    C    C    A    G    G    U    U    G    A    U  ...    U    G    G   \n",
      "212    C    U    G    C    A    C    G    C    U    G  ...    G    U    U   \n",
      "199    G    A    U    G    U    U    C    U    U    A  ...    C    C    G   \n",
      "\n",
      "    SP25 SP26 SP27 SP28 SP29 SP30 mean_targeting_efficiency  \n",
      "24     G    U    U    G    U    A                       1.0  \n",
      "6      G    G    G    G    A    U                       1.0  \n",
      "153    A    G    U    A    G    A                       0.7  \n",
      "212    G    U    G    G    C    G                       0.2  \n",
      "199    C    A    G    G    U    U                       0.8  \n",
      "\n",
      "[5 rows x 31 columns]\n"
     ]
    }
   ],
   "source": [
    "import pandas as pd\n",
    "import numpy as np\n",
    "import pgmpy\n",
    "from sklearn.model_selection import train_test_split\n",
    "\n",
    "df_raw = pd.read_csv('Data_high_dosage.csv')\n",
    "# print(df_raw.head())\n",
    "# print(df_raw.shape)\n",
    "\n",
    "df_spacer_split = df_raw['spacer_seq'].apply(lambda x: pd.Series(list(x)))\n",
    "df_spacer_split.columns = [f'SP{str(i+1).zfill(2)}' for i in range(df_spacer_split.shape[1])]\n",
    "df = pd.concat([df_spacer_split, df_raw.drop(['spacer_seq', 'dosage (ng)'], axis=1)], axis=1)\n",
    "df['mean_targeting_efficiency'] = df['mean_targeting_efficiency'].apply(lambda x: ((x+0.05) // 0.1) / 10)\n",
    "df.drop(\"transcript\", axis=1, inplace=True)\n",
    "# print(df.head())\n",
    "\n",
    "train_df, test_df = train_test_split(df, test_size=0.1, random_state=42)\n",
    "\n",
    "print(train_df.head())\n",
    "print(test_df.head())\n",
    "\n",
    "\n"
   ]
  },
  {
   "cell_type": "code",
   "execution_count": 3,
   "metadata": {},
   "outputs": [
    {
     "name": "stdout",
     "output_type": "stream",
     "text": [
      "['SP01', 'SP02', 'SP03', 'SP04', 'SP05', 'SP06', 'SP07', 'SP08', 'SP09', 'SP10', 'SP11', 'SP12', 'SP13', 'SP14', 'SP15', 'SP16', 'SP17', 'SP18', 'SP19', 'SP20', 'SP21', 'SP22', 'SP23', 'SP24', 'SP25', 'SP26', 'SP27', 'SP28', 'SP29', 'SP30', 'mean_targeting_efficiency']\n"
     ]
    }
   ],
   "source": [
    "# make the model\n",
    "from pgmpy.models import BayesianNetwork\n",
    "\n",
    "nodes = list(df.columns)\n",
    "print(nodes)\n",
    "\n",
    "edges = [(\"SP01\", 'mean_targeting_efficiency'), (\"SP02\", 'mean_targeting_efficiency'), (\"SP11\", 'mean_targeting_efficiency'),(\"SP12\", 'mean_targeting_efficiency'),(\"SP15\", 'mean_targeting_efficiency'),(\"SP16\", 'mean_targeting_efficiency'),(\"SP17\", 'mean_targeting_efficiency'),\n",
    "         (\"SP03\", 'mean_targeting_efficiency'), (\"SP04\", 'mean_targeting_efficiency')]\n",
    "model = BayesianNetwork(edges)\n",
    "\n",
    "leftover_nodes = [x for x in nodes if x not in model.nodes]\n",
    "model.add_nodes_from(leftover_nodes)\n",
    "\n",
    "# model.add_nodes_from(nodes)\n",
    "\n",
    "\n",
    "# model.add_edges_from([(df.columns[-1], s) for s in df.columns[:-1]])\n",
    "# for s in df.columns[:-1]:\n",
    "    \n",
    "    # model.add_edge(df.columns[-1], s)\n",
    "\n",
    "\n",
    "model.to_graphviz().draw(\"const.png\", prog=\"dot\")"
   ]
  },
  {
   "cell_type": "code",
   "execution_count": 5,
   "metadata": {},
   "outputs": [
    {
     "data": {
      "application/vnd.jupyter.widget-view+json": {
       "model_id": "d0face131c154c418b94299b47e8a93d",
       "version_major": 2,
       "version_minor": 0
      },
      "text/plain": [
       "  0%|          | 0/1000000 [00:00<?, ?it/s]"
      ]
     },
     "metadata": {},
     "output_type": "display_data"
    }
   ],
   "source": [
    "from pgmpy.estimators import HillClimbSearch, BicScore, K2Score\n",
    "from pgmpy.models import BayesianNetwork\n",
    "import time\n",
    "\n",
    "fixed_edges = edges\n",
    "nodes_to_learn = [node for node in df.columns if node not in ['mean_targeting_efficiency'] + [edge[0] for edge in fixed_edges]]\n",
    "\n",
    "# est = HillClimbSearch(train_df, use_cache=True)\n",
    "est = HillClimbSearch(test_df, use_cache=True)\n",
    "# dag = est.estimate(start_dag=model, scoring_method=\"bdeuscore\", fixed_edges=fixed_edges)\n",
    "dag = est.estimate(start_dag=model, scoring_method=\"bdeuscore\")\n",
    "\n",
    "final_model = BayesianNetwork(dag)\n",
    "final_model.to_graphviz().draw(\"final_model_testdata.png\", prog=\"dot\")"
   ]
  },
  {
   "cell_type": "code",
   "execution_count": null,
   "metadata": {},
   "outputs": [],
   "source": [
    "from pgmpy.estimators import MaximumLikelihoodEstimator\n",
    "final_model.fit(train_df, estimator=MaximumLikelihoodEstimator)\n",
    "\n",
    "from pgmpy.readwrite import XMLBIFWriter\n",
    "writer = XMLBIFWriter(final_model)\n",
    "writer.write_xmlbif(\"final_model_testdata.xml\")\n",
    "\n",
    "cpds = final_model.get_cpds()\n",
    "for cpd in cpds:\n",
    "    print(cpd)\n"
   ]
  },
  {
   "cell_type": "code",
   "execution_count": 9,
   "metadata": {},
   "outputs": [
    {
     "data": {
      "application/vnd.jupyter.widget-view+json": {
       "model_id": "e1ac57ed73c145569e8b998d8d89f288",
       "version_major": 2,
       "version_minor": 0
      },
      "text/plain": [
       "  0%|          | 0/25 [00:00<?, ?it/s]"
      ]
     },
     "metadata": {},
     "output_type": "display_data"
    },
    {
     "name": "stdout",
     "output_type": "stream",
     "text": [
      "    mean_targeting_efficiency\n",
      "0                        -0.1\n",
      "1                        -0.1\n",
      "2                        -0.1\n",
      "3                        -0.1\n",
      "4                        -0.1\n",
      "5                        -0.1\n",
      "6                        -0.1\n",
      "7                        -0.1\n",
      "8                        -0.1\n",
      "9                        -0.1\n",
      "10                       -0.1\n",
      "11                       -0.1\n",
      "12                       -0.1\n",
      "13                       -0.1\n",
      "14                       -0.1\n",
      "15                       -0.1\n",
      "16                       -0.1\n",
      "17                       -0.1\n",
      "18                       -0.1\n",
      "19                       -0.1\n",
      "20                       -0.1\n",
      "21                       -0.1\n",
      "22                       -0.1\n",
      "23                       -0.1\n",
      "24                       -0.1\n"
     ]
    }
   ],
   "source": [
    "test_pred = final_model.predict(test_df.drop('mean_targeting_efficiency', axis=1))\n",
    "print(test_pred)"
   ]
  },
  {
   "cell_type": "code",
   "execution_count": 10,
   "metadata": {},
   "outputs": [
    {
     "name": "stdout",
     "output_type": "stream",
     "text": [
      "Errors: 0      NaN\n",
      "1      NaN\n",
      "2      NaN\n",
      "3      NaN\n",
      "4      NaN\n",
      "5      NaN\n",
      "6      1.1\n",
      "7      NaN\n",
      "8      NaN\n",
      "9      1.1\n",
      "10     NaN\n",
      "11     NaN\n",
      "12     NaN\n",
      "13     NaN\n",
      "14     NaN\n",
      "15     0.7\n",
      "16     NaN\n",
      "17     NaN\n",
      "18     NaN\n",
      "19     0.5\n",
      "20     NaN\n",
      "21     NaN\n",
      "22     NaN\n",
      "23     NaN\n",
      "24     1.1\n",
      "30     NaN\n",
      "33     NaN\n",
      "45     NaN\n",
      "66     NaN\n",
      "82     NaN\n",
      "101    NaN\n",
      "109    NaN\n",
      "117    NaN\n",
      "124    NaN\n",
      "142    NaN\n",
      "146    NaN\n",
      "153    NaN\n",
      "172    NaN\n",
      "177    NaN\n",
      "190    NaN\n",
      "193    NaN\n",
      "199    NaN\n",
      "206    NaN\n",
      "211    NaN\n",
      "212    NaN\n",
      "Name: mean_targeting_efficiency, dtype: float64\n",
      "MSE Loss: 0.8740000000000002\n"
     ]
    }
   ],
   "source": [
    "errors = test_df['mean_targeting_efficiency'] - test_pred['mean_targeting_efficiency']\n",
    "print(f\"Errors: {errors}\")\n",
    "print(f\"MSE Loss: {np.mean(errors**2)}\")"
   ]
  },
  {
   "cell_type": "code",
   "execution_count": null,
   "metadata": {},
   "outputs": [],
   "source": [
    "from pgmpy.estimators import HillClimbSearch, BicScore, K2Score\n",
    "from pgmpy.models import BayesianNetwork\n",
    "import time\n",
    "\n",
    "# def learn_constrained(data, fixed_edges, checkpoint_interval=300, checkpoint_file='checkpoint.pkl'):\n",
    "#     starttime = time.time()\n",
    "#     hc = HillClimbSearch(data)\n",
    "#     learned_model = hc.estimate(scoring_method=K2Score(data), fixed_edges=fixed_edges)\n",
    "#     # learned_model = hc.estimate(scoring_method=BicScore(data), fixed_edges=fixed_edges)\n",
    "#     final_edges = fixed_edges + list(learned_model.edges)\n",
    "#     final_model = BayesianNetwork(final_edges)\n",
    "#     return final_model"
   ]
  },
  {
   "cell_type": "code",
   "execution_count": 135,
   "metadata": {},
   "outputs": [],
   "source": [
    "fixed_edges = edges\n",
    "nodes_to_learn = [node for node in df.columns if node not in ['mean_targeting_efficiency'] + [edge[0] for edge in fixed_edges]]"
   ]
  },
  {
   "cell_type": "code",
   "execution_count": 136,
   "metadata": {},
   "outputs": [
    {
     "data": {
      "text/plain": [
       "([('SP01', 'mean_targeting_efficiency'),\n",
       "  ('SP02', 'mean_targeting_efficiency'),\n",
       "  ('SP11', 'mean_targeting_efficiency'),\n",
       "  ('SP12', 'mean_targeting_efficiency'),\n",
       "  ('SP15', 'mean_targeting_efficiency'),\n",
       "  ('SP16', 'mean_targeting_efficiency'),\n",
       "  ('SP17', 'mean_targeting_efficiency'),\n",
       "  ('SP03', 'mean_targeting_efficiency'),\n",
       "  ('SP04', 'mean_targeting_efficiency')],\n",
       " ['SP05',\n",
       "  'SP06',\n",
       "  'SP07',\n",
       "  'SP08',\n",
       "  'SP09',\n",
       "  'SP10',\n",
       "  'SP13',\n",
       "  'SP14',\n",
       "  'SP18',\n",
       "  'SP19',\n",
       "  'SP20',\n",
       "  'SP21',\n",
       "  'SP22',\n",
       "  'SP23',\n",
       "  'SP24',\n",
       "  'SP25',\n",
       "  'SP26',\n",
       "  'SP27',\n",
       "  'SP28',\n",
       "  'SP29',\n",
       "  'SP30'])"
      ]
     },
     "execution_count": 136,
     "metadata": {},
     "output_type": "execute_result"
    }
   ],
   "source": [
    "fixed_edges, nodes_to_learn"
   ]
  },
  {
   "cell_type": "code",
   "execution_count": 133,
   "metadata": {},
   "outputs": [
    {
     "ename": "TypeError",
     "evalue": "BaseEstimator.__init__() got an unexpected keyword argument 'scoring_method'",
     "output_type": "error",
     "traceback": [
      "\u001b[0;31m---------------------------------------------------------------------------\u001b[0m",
      "\u001b[0;31mTypeError\u001b[0m                                 Traceback (most recent call last)",
      "Cell \u001b[0;32mIn[133], line 2\u001b[0m\n\u001b[1;32m      1\u001b[0m \u001b[38;5;66;03m# learned_bn = learn_constrained(test_df, fixed_edges)\u001b[39;00m\n\u001b[0;32m----> 2\u001b[0m learned_bn \u001b[38;5;241m=\u001b[39m \u001b[43mlearn_constrained\u001b[49m\u001b[43m(\u001b[49m\u001b[43mtrain_df\u001b[49m\u001b[43m,\u001b[49m\u001b[43m \u001b[49m\u001b[43mfixed_edges\u001b[49m\u001b[43m)\u001b[49m\n\u001b[1;32m      4\u001b[0m \u001b[38;5;66;03m# learned_bn.to_graphviz().draw(\"learned.png\", prog=\"dot\")\u001b[39;00m\n",
      "Cell \u001b[0;32mIn[130], line 7\u001b[0m, in \u001b[0;36mlearn_constrained\u001b[0;34m(data, fixed_edges, checkpoint_interval, checkpoint_file)\u001b[0m\n\u001b[1;32m      5\u001b[0m \u001b[38;5;28;01mdef\u001b[39;00m \u001b[38;5;21mlearn_constrained\u001b[39m(data, fixed_edges, checkpoint_interval\u001b[38;5;241m=\u001b[39m\u001b[38;5;241m300\u001b[39m, checkpoint_file\u001b[38;5;241m=\u001b[39m\u001b[38;5;124m'\u001b[39m\u001b[38;5;124mcheckpoint.pkl\u001b[39m\u001b[38;5;124m'\u001b[39m):\n\u001b[1;32m      6\u001b[0m     starttime \u001b[38;5;241m=\u001b[39m time\u001b[38;5;241m.\u001b[39mtime()\n\u001b[0;32m----> 7\u001b[0m     hc \u001b[38;5;241m=\u001b[39m \u001b[43mHillClimbSearch\u001b[49m\u001b[43m(\u001b[49m\u001b[43mdata\u001b[49m\u001b[43m,\u001b[49m\u001b[43m \u001b[49m\u001b[43mscoring_method\u001b[49m\u001b[38;5;241;43m=\u001b[39;49m\u001b[43mK2Score\u001b[49m\u001b[43m(\u001b[49m\u001b[43mdata\u001b[49m\u001b[43m)\u001b[49m\u001b[43m)\u001b[49m\n\u001b[1;32m      8\u001b[0m     learned_model \u001b[38;5;241m=\u001b[39m hc\u001b[38;5;241m.\u001b[39mestimate(fixed_edges\u001b[38;5;241m=\u001b[39mfixed_edges)\n\u001b[1;32m      9\u001b[0m     \u001b[38;5;66;03m# learned_model = hc.estimate(scoring_method=BicScore(data), fixed_edges=fixed_edges)\u001b[39;00m\n",
      "File \u001b[0;32m~/.local/lib/python3.12/site-packages/pgmpy/estimators/HillClimbSearch.py:53\u001b[0m, in \u001b[0;36mHillClimbSearch.__init__\u001b[0;34m(self, data, use_cache, **kwargs)\u001b[0m\n\u001b[1;32m     50\u001b[0m \u001b[38;5;28;01mdef\u001b[39;00m \u001b[38;5;21m__init__\u001b[39m(\u001b[38;5;28mself\u001b[39m, data, use_cache\u001b[38;5;241m=\u001b[39m\u001b[38;5;28;01mTrue\u001b[39;00m, \u001b[38;5;241m*\u001b[39m\u001b[38;5;241m*\u001b[39mkwargs):\n\u001b[1;32m     51\u001b[0m     \u001b[38;5;28mself\u001b[39m\u001b[38;5;241m.\u001b[39muse_cache \u001b[38;5;241m=\u001b[39m use_cache\n\u001b[0;32m---> 53\u001b[0m     \u001b[38;5;28;43msuper\u001b[39;49m\u001b[43m(\u001b[49m\u001b[43mHillClimbSearch\u001b[49m\u001b[43m,\u001b[49m\u001b[43m \u001b[49m\u001b[38;5;28;43mself\u001b[39;49m\u001b[43m)\u001b[49m\u001b[38;5;241;43m.\u001b[39;49m\u001b[38;5;21;43m__init__\u001b[39;49m\u001b[43m(\u001b[49m\u001b[43mdata\u001b[49m\u001b[43m,\u001b[49m\u001b[43m \u001b[49m\u001b[38;5;241;43m*\u001b[39;49m\u001b[38;5;241;43m*\u001b[39;49m\u001b[43mkwargs\u001b[49m\u001b[43m)\u001b[49m\n",
      "File \u001b[0;32m~/.local/lib/python3.12/site-packages/pgmpy/estimators/base.py:291\u001b[0m, in \u001b[0;36mStructureEstimator.__init__\u001b[0;34m(self, data, independencies, **kwargs)\u001b[0m\n\u001b[1;32m    288\u001b[0m \u001b[38;5;28;01mif\u001b[39;00m \u001b[38;5;28mself\u001b[39m\u001b[38;5;241m.\u001b[39mindependencies \u001b[38;5;129;01mis\u001b[39;00m \u001b[38;5;129;01mnot\u001b[39;00m \u001b[38;5;28;01mNone\u001b[39;00m:\n\u001b[1;32m    289\u001b[0m     \u001b[38;5;28mself\u001b[39m\u001b[38;5;241m.\u001b[39mvariables \u001b[38;5;241m=\u001b[39m \u001b[38;5;28mself\u001b[39m\u001b[38;5;241m.\u001b[39mindependencies\u001b[38;5;241m.\u001b[39mget_all_variables()\n\u001b[0;32m--> 291\u001b[0m \u001b[38;5;28;43msuper\u001b[39;49m\u001b[43m(\u001b[49m\u001b[43mStructureEstimator\u001b[49m\u001b[43m,\u001b[49m\u001b[43m \u001b[49m\u001b[38;5;28;43mself\u001b[39;49m\u001b[43m)\u001b[49m\u001b[38;5;241;43m.\u001b[39;49m\u001b[38;5;21;43m__init__\u001b[39;49m\u001b[43m(\u001b[49m\u001b[43mdata\u001b[49m\u001b[38;5;241;43m=\u001b[39;49m\u001b[43mdata\u001b[49m\u001b[43m,\u001b[49m\u001b[43m \u001b[49m\u001b[38;5;241;43m*\u001b[39;49m\u001b[38;5;241;43m*\u001b[39;49m\u001b[43mkwargs\u001b[49m\u001b[43m)\u001b[49m\n",
      "\u001b[0;31mTypeError\u001b[0m: BaseEstimator.__init__() got an unexpected keyword argument 'scoring_method'"
     ]
    }
   ],
   "source": [
    "# learned_bn = learn_constrained(test_df, fixed_edges)\n",
    "learned_bn = learn_constrained(train_df, fixed_edges)\n",
    "\n",
    "# learned_bn.to_graphviz().draw(\"learned.png\", prog=\"dot\")"
   ]
  },
  {
   "cell_type": "code",
   "execution_count": 126,
   "metadata": {},
   "outputs": [],
   "source": [
    "learned_bn.to_graphviz().draw(\"learned.png\", prog=\"dot\")"
   ]
  },
  {
   "cell_type": "code",
   "execution_count": null,
   "metadata": {},
   "outputs": [],
   "source": []
  }
 ],
 "metadata": {
  "kernelspec": {
   "display_name": "Python 3",
   "language": "python",
   "name": "python3"
  },
  "language_info": {
   "codemirror_mode": {
    "name": "ipython",
    "version": 3
   },
   "file_extension": ".py",
   "mimetype": "text/x-python",
   "name": "python",
   "nbconvert_exporter": "python",
   "pygments_lexer": "ipython3",
   "version": "3.12.3"
  }
 },
 "nbformat": 4,
 "nbformat_minor": 2
}
