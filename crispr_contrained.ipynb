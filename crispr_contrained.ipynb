{
 "cells": [
  {
   "cell_type": "markdown",
   "metadata": {},
   "source": [
    "# CRISPR Constrained model For CAS 13b"
   ]
  },
  {
   "cell_type": "code",
   "execution_count": 11,
   "metadata": {},
   "outputs": [
    {
     "name": "stdout",
     "output_type": "stream",
     "text": [
      "    SP01 SP02 SP03 SP04 SP05 SP06 SP07 SP08 SP09 SP10  ... SP22 SP23 SP24  \\\n",
      "120    G    C    U    C    G    G    A    G    G    A  ...    C    C    A   \n",
      "10     G    G    U    C    U    U    C    U    U    C  ...    G    C    C   \n",
      "73     C    U    G    C    G    U    C    U    C    C  ...    C    C    U   \n",
      "159    U    G    A    U    U    G    G    G    G    U  ...    A    G    A   \n",
      "156    G    G    U    U    G    A    U    U    G    G  ...    A    G    U   \n",
      "\n",
      "    SP25 SP26 SP27 SP28 SP29 SP30 mean_targeting_efficiency  \n",
      "120    U    C    G    U    C    U                       0.7  \n",
      "10     G    U    C    G    G    A                       1.0  \n",
      "73     C    G    C    C    A    U                       0.9  \n",
      "159    U    C    U    U    A    A                       0.9  \n",
      "156    A    G    A    U    C    U                       0.9  \n",
      "\n",
      "[5 rows x 31 columns]\n",
      "    SP01 SP02 SP03 SP04 SP05 SP06 SP07 SP08 SP09 SP10  ... SP22 SP23 SP24  \\\n",
      "24     G    G    U    G    A    U    G    U    C    C  ...    G    A    C   \n",
      "6      G    G    G    G    A    A    G    G    A    C  ...    G    U    C   \n",
      "153    C    C    A    G    G    U    U    G    A    U  ...    U    G    G   \n",
      "212    C    U    G    C    A    C    G    C    U    G  ...    G    U    U   \n",
      "199    G    A    U    G    U    U    C    U    U    A  ...    C    C    G   \n",
      "\n",
      "    SP25 SP26 SP27 SP28 SP29 SP30 mean_targeting_efficiency  \n",
      "24     G    U    U    G    U    A                       1.0  \n",
      "6      G    G    G    G    A    U                       1.0  \n",
      "153    A    G    U    A    G    A                       0.7  \n",
      "212    G    U    G    G    C    G                       0.2  \n",
      "199    C    A    G    G    U    U                       0.8  \n",
      "\n",
      "[5 rows x 31 columns]\n"
     ]
    }
   ],
   "source": [
    "import pandas as pd\n",
    "import numpy as np\n",
    "import pgmpy\n",
    "from sklearn.model_selection import train_test_split\n",
    "\n",
    "df_raw = pd.read_csv('Data_high_dosage.csv')\n",
    "# print(df_raw.head())\n",
    "# print(df_raw.shape)\n",
    "\n",
    "df_spacer_split = df_raw['spacer_seq'].apply(lambda x: pd.Series(list(x)))\n",
    "df_spacer_split.columns = [f'SP{str(i+1).zfill(2)}' for i in range(df_spacer_split.shape[1])]\n",
    "df = pd.concat([df_spacer_split, df_raw.drop(['spacer_seq', 'dosage (ng)'], axis=1)], axis=1)\n",
    "df['mean_targeting_efficiency'] = df['mean_targeting_efficiency'].apply(lambda x: ((x+0.05) // 0.1) / 10)\n",
    "df.drop(\"transcript\", axis=1, inplace=True)\n",
    "# print(df.head())\n",
    "\n",
    "train_df, test_df = train_test_split(df, test_size=0.1, random_state=42)\n",
    "\n",
    "print(train_df.head())\n",
    "print(test_df.head())\n",
    "\n",
    "\n"
   ]
  },
  {
   "cell_type": "code",
   "execution_count": 16,
   "metadata": {},
   "outputs": [
    {
     "name": "stdout",
     "output_type": "stream",
     "text": [
      "['SP01', 'SP02', 'SP03', 'SP04', 'SP05', 'SP06', 'SP07', 'SP08', 'SP09', 'SP10', 'SP11', 'SP12', 'SP13', 'SP14', 'SP15', 'SP16', 'SP17', 'SP18', 'SP19', 'SP20', 'SP21', 'SP22', 'SP23', 'SP24', 'SP25', 'SP26', 'SP27', 'SP28', 'SP29', 'SP30', 'mean_targeting_efficiency']\n"
     ]
    }
   ],
   "source": [
    "# make the model\n",
    "from pgmpy.models import BayesianNetwork\n",
    "\n",
    "nodes = list(df.columns)\n",
    "print(nodes)\n",
    "\n",
    "edges = [(\"SP01\", 'mean_targeting_efficiency'), (\"SP02\", 'mean_targeting_efficiency'), (\"SP11\", 'mean_targeting_efficiency'),(\"SP12\", 'mean_targeting_efficiency'),(\"SP15\", 'mean_targeting_efficiency'),(\"SP16\", 'mean_targeting_efficiency'),(\"SP17\", 'mean_targeting_efficiency'),\n",
    "         (\"SP03\", 'mean_targeting_efficiency'), (\"SP04\", 'mean_targeting_efficiency')]\n",
    "model = BayesianNetwork(edges)\n",
    "\n",
    "\n",
    "# model.add_edges_from([(df.columns[-1], s) for s in df.columns[:-1]])\n",
    "# for s in df.columns[:-1]:\n",
    "    \n",
    "    # model.add_edge(df.columns[-1], s)\n",
    "\n",
    "\n",
    "model.to_graphviz().draw(\"const.png\", prog=\"dot\")"
   ]
  }
 ],
 "metadata": {
  "kernelspec": {
   "display_name": "Python 3",
   "language": "python",
   "name": "python3"
  },
  "language_info": {
   "codemirror_mode": {
    "name": "ipython",
    "version": 3
   },
   "file_extension": ".py",
   "mimetype": "text/x-python",
   "name": "python",
   "nbconvert_exporter": "python",
   "pygments_lexer": "ipython3",
   "version": "3.12.5"
  }
 },
 "nbformat": 4,
 "nbformat_minor": 2
}
